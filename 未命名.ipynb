{
 "cells": [
  {
   "cell_type": "code",
   "execution_count": 2,
   "metadata": {},
   "outputs": [],
   "source": [
    "\"\"\"\n",
    "邢不行-股票量化入门训练营\n",
    "邢不行微信：xbx9585\n",
    "Day3：选股策略示例\n",
    "\"\"\"\n",
    "import pandas as pd\n",
    "import numpy as np\n",
    "import matplotlib.pyplot as plt\n",
    "# import math\n",
    "\n",
    "# ===选股参数设定\n",
    "select_stock_num = 3  # 选股数量\n",
    "c_rate = 1.2 / 10000  # 手续费，手续费>万1.2\n",
    "t_rate = 1 / 1000  # 印花税\n",
    "select_stock_sum = pd.DataFrame()\n",
    "\n",
    "df0 = pd.read_pickle('供选股数据.pkl') "
   ]
  },
  {
   "cell_type": "code",
   "execution_count": 48,
   "metadata": {},
   "outputs": [],
   "source": [
    "df= df0.head(10000)\n",
    "group = df.groupby('交易日期')\n",
    "select_stock = pd.DataFrame()\n",
    "select_stock['买入股票代码'] = group['股票代码'].sum()\n",
    "select_stock['买入股票名称'] = group['股票名称'].sum()"
   ]
  },
  {
   "cell_type": "code",
   "execution_count": 49,
   "metadata": {},
   "outputs": [
    {
     "data": {
      "text/html": [
       "<div>\n",
       "<style scoped>\n",
       "    .dataframe tbody tr th:only-of-type {\n",
       "        vertical-align: middle;\n",
       "    }\n",
       "\n",
       "    .dataframe tbody tr th {\n",
       "        vertical-align: top;\n",
       "    }\n",
       "\n",
       "    .dataframe thead th {\n",
       "        text-align: right;\n",
       "    }\n",
       "</style>\n",
       "<table border=\"1\" class=\"dataframe\">\n",
       "  <thead>\n",
       "    <tr style=\"text-align: right;\">\n",
       "      <th></th>\n",
       "      <th>买入股票代码</th>\n",
       "      <th>买入股票名称</th>\n",
       "    </tr>\n",
       "    <tr>\n",
       "      <th>交易日期</th>\n",
       "      <th></th>\n",
       "      <th></th>\n",
       "    </tr>\n",
       "  </thead>\n",
       "  <tbody>\n",
       "    <tr>\n",
       "      <th>2006-12-29</th>\n",
       "      <td>sh600000sh600001sh600004sh600005sh600006sh6000...</td>\n",
       "      <td>浦发银行邯郸钢铁白云机场武钢股份东风汽车中国国贸首创股份上海机场包钢股份华能国际皖通高速华夏...</td>\n",
       "    </tr>\n",
       "    <tr>\n",
       "      <th>2007-01-31</th>\n",
       "      <td>sh600000sh600001sh600004sh600005sh600006sh6000...</td>\n",
       "      <td>浦发银行邯郸钢铁白云机场武钢股份东风汽车中国国贸首创股份上海机场包钢股份华能国际皖通高速华夏...</td>\n",
       "    </tr>\n",
       "    <tr>\n",
       "      <th>2007-02-28</th>\n",
       "      <td>sh600000sh600001sh600004sh600005sh600006sh6000...</td>\n",
       "      <td>浦发银行邯郸钢铁白云机场武钢股份东风汽车中国国贸首创股份上海机场包钢股份华能国际皖通高速华夏...</td>\n",
       "    </tr>\n",
       "    <tr>\n",
       "      <th>2007-03-30</th>\n",
       "      <td>sh600000sh600001sh600003sh600004sh600005sh6000...</td>\n",
       "      <td>浦发银行邯郸钢铁东北高速白云机场武钢股份东风汽车中国国贸首创股份上海机场包钢股份华能国际皖通...</td>\n",
       "    </tr>\n",
       "    <tr>\n",
       "      <th>2007-04-30</th>\n",
       "      <td>sh600000sh600001sh600003sh600004sh600005sh6000...</td>\n",
       "      <td>浦发银行邯郸钢铁东北高速白云机场武钢股份东风汽车中国国贸首创股份上海机场包钢股份华能国际皖通...</td>\n",
       "    </tr>\n",
       "    <tr>\n",
       "      <th>2007-05-31</th>\n",
       "      <td>sh600000sh600001sh600003sh600004sh600005sh6000...</td>\n",
       "      <td>浦发银行邯郸钢铁东北高速白云机场武钢股份东风汽车中国国贸首创股份上海机场包钢股份华能国际皖通...</td>\n",
       "    </tr>\n",
       "    <tr>\n",
       "      <th>2007-06-29</th>\n",
       "      <td>sh600000sh600001sh600003sh600005sh600006sh6000...</td>\n",
       "      <td>浦发银行邯郸钢铁东北高速武钢股份东风汽车中国国贸首创股份上海机场华能国际皖通高速华夏银行民生...</td>\n",
       "    </tr>\n",
       "    <tr>\n",
       "      <th>2007-07-31</th>\n",
       "      <td>sh600000sh600001sh600004sh600005sh600006sh6000...</td>\n",
       "      <td>浦发银行邯郸钢铁白云机场武钢股份东风汽车中国国贸首创股份上海机场包钢股份华能国际皖通高速华夏...</td>\n",
       "    </tr>\n",
       "    <tr>\n",
       "      <th>2007-08-31</th>\n",
       "      <td>sh600000sh600001sh600004sh600005sh600006sh6000...</td>\n",
       "      <td>浦发银行邯郸钢铁白云机场武钢股份东风汽车中国国贸首创股份上海机场包钢股份华能国际皖通高速华夏...</td>\n",
       "    </tr>\n",
       "  </tbody>\n",
       "</table>\n",
       "</div>"
      ],
      "text/plain": [
       "                                                       买入股票代码  \\\n",
       "交易日期                                                            \n",
       "2006-12-29  sh600000sh600001sh600004sh600005sh600006sh6000...   \n",
       "2007-01-31  sh600000sh600001sh600004sh600005sh600006sh6000...   \n",
       "2007-02-28  sh600000sh600001sh600004sh600005sh600006sh6000...   \n",
       "2007-03-30  sh600000sh600001sh600003sh600004sh600005sh6000...   \n",
       "2007-04-30  sh600000sh600001sh600003sh600004sh600005sh6000...   \n",
       "2007-05-31  sh600000sh600001sh600003sh600004sh600005sh6000...   \n",
       "2007-06-29  sh600000sh600001sh600003sh600005sh600006sh6000...   \n",
       "2007-07-31  sh600000sh600001sh600004sh600005sh600006sh6000...   \n",
       "2007-08-31  sh600000sh600001sh600004sh600005sh600006sh6000...   \n",
       "\n",
       "                                                       买入股票名称  \n",
       "交易日期                                                           \n",
       "2006-12-29  浦发银行邯郸钢铁白云机场武钢股份东风汽车中国国贸首创股份上海机场包钢股份华能国际皖通高速华夏...  \n",
       "2007-01-31  浦发银行邯郸钢铁白云机场武钢股份东风汽车中国国贸首创股份上海机场包钢股份华能国际皖通高速华夏...  \n",
       "2007-02-28  浦发银行邯郸钢铁白云机场武钢股份东风汽车中国国贸首创股份上海机场包钢股份华能国际皖通高速华夏...  \n",
       "2007-03-30  浦发银行邯郸钢铁东北高速白云机场武钢股份东风汽车中国国贸首创股份上海机场包钢股份华能国际皖通...  \n",
       "2007-04-30  浦发银行邯郸钢铁东北高速白云机场武钢股份东风汽车中国国贸首创股份上海机场包钢股份华能国际皖通...  \n",
       "2007-05-31  浦发银行邯郸钢铁东北高速白云机场武钢股份东风汽车中国国贸首创股份上海机场包钢股份华能国际皖通...  \n",
       "2007-06-29  浦发银行邯郸钢铁东北高速武钢股份东风汽车中国国贸首创股份上海机场华能国际皖通高速华夏银行民生...  \n",
       "2007-07-31  浦发银行邯郸钢铁白云机场武钢股份东风汽车中国国贸首创股份上海机场包钢股份华能国际皖通高速华夏...  \n",
       "2007-08-31  浦发银行邯郸钢铁白云机场武钢股份东风汽车中国国贸首创股份上海机场包钢股份华能国际皖通高速华夏...  "
      ]
     },
     "execution_count": 49,
     "metadata": {},
     "output_type": "execute_result"
    }
   ],
   "source": [
    "select_stock"
   ]
  },
  {
   "cell_type": "code",
   "execution_count": 56,
   "metadata": {},
   "outputs": [
    {
     "data": {
      "text/plain": [
       "交易日期\n",
       "2006-12-29    [1.0012007755768866, 1.0288477335340385, 1.072...\n",
       "2007-01-31    [1.0097513838229146, 0.9906313433354227, 1.002...\n",
       "2007-02-28    [0.9790617276317862, 0.9964549033547151, 0.995...\n",
       "2007-03-30    [1.0242209987990236, 1.039851016361966, 1.0516...\n",
       "2007-04-30    [1.0459719893990165, 1.0462223036344205, 1.056...\n",
       "2007-05-31    [0.9296476618537012, 0.8473566893295488, 0.859...\n",
       "2007-06-29    [1.0239653979873287, 1.0422781422295273, 1.015...\n",
       "2007-07-31    [0.9446481907090584, 0.9826591945092251, 0.998...\n",
       "2007-08-31    [1.0268125726340351, 1.0183366512072982, 1.024...\n",
       "Name: 选股下周期每天资金曲线, dtype: object"
      ]
     },
     "execution_count": 56,
     "metadata": {},
     "output_type": "execute_result"
    }
   ],
   "source": [
    "\n",
    "select_stock['选股下周期每天资金曲线'] = group['下周期每天涨跌幅'].apply(lambda x: np.cumprod(np.array(list(x))+1, axis=1).mean(axis=0))\n",
    "select_stock['选股下周期每天资金曲线'] = select_stock['选股下周期每天资金曲线'] * (1 - c_rate)  \n",
    "select_stock['选股下周期每天资金曲线'] = select_stock['选股下周期每天资金曲线'].apply(lambda x: list(x[:-1]) + [x[-1] * (1 - c_rate - t_rate)])\n",
    "\n",
    "select_stock['选股下周期每天资金曲线']\n"
   ]
  },
  {
   "cell_type": "code",
   "execution_count": 54,
   "metadata": {},
   "outputs": [
    {
     "data": {
      "text/plain": [
       "交易日期\n",
       "2006-12-29    [[1.007038948850305, 0.977475363679024, 0.9971...\n",
       "2007-01-31    [[0.9839935974389756, 0.9203681472589036, 0.86...\n",
       "2007-02-28    [[0.9798387096774194, 0.9834229390681003, 0.96...\n",
       "2007-03-30    [[1.0494011976047903, 1.0475299401197604, 1.06...\n",
       "2007-04-30    [[1.045724907063197, 1.0739776951672864, 1.088...\n",
       "2007-05-31    [[0.9777843601895735, 0.9609004739336493, 0.97...\n",
       "2007-06-29    [[0.9696638425799396, 0.9808690899152773, 0.93...\n",
       "2007-07-31    [[1.0034782608695652, 1.0387577639751553, 1.09...\n",
       "2007-08-31    [[1.018909090909091, 0.9885454545454545, 0.967...\n",
       "Name: 下周期每天涨跌幅, dtype: object"
      ]
     },
     "execution_count": 54,
     "metadata": {},
     "output_type": "execute_result"
    }
   ],
   "source": [
    "group['下周期每天涨跌幅'].apply(lambda row: np.cumprod(np.array(list(row))+1, axis =1))#.mean(axis=0))"
   ]
  },
  {
   "cell_type": "code",
   "execution_count": 27,
   "metadata": {
    "scrolled": true
   },
   "outputs": [
    {
     "data": {
      "text/html": [
       "<div>\n",
       "<style scoped>\n",
       "    .dataframe tbody tr th:only-of-type {\n",
       "        vertical-align: middle;\n",
       "    }\n",
       "\n",
       "    .dataframe tbody tr th {\n",
       "        vertical-align: top;\n",
       "    }\n",
       "\n",
       "    .dataframe thead th {\n",
       "        text-align: right;\n",
       "    }\n",
       "</style>\n",
       "<table border=\"1\" class=\"dataframe\">\n",
       "  <thead>\n",
       "    <tr style=\"text-align: right;\">\n",
       "      <th></th>\n",
       "      <th>key1</th>\n",
       "      <th>key2</th>\n",
       "      <th>data1</th>\n",
       "      <th>data2</th>\n",
       "    </tr>\n",
       "  </thead>\n",
       "  <tbody>\n",
       "    <tr>\n",
       "      <th>0</th>\n",
       "      <td>a</td>\n",
       "      <td>one</td>\n",
       "      <td>-0.415290</td>\n",
       "      <td>-0.038036</td>\n",
       "    </tr>\n",
       "    <tr>\n",
       "      <th>1</th>\n",
       "      <td>a</td>\n",
       "      <td>two</td>\n",
       "      <td>-0.345026</td>\n",
       "      <td>1.069099</td>\n",
       "    </tr>\n",
       "    <tr>\n",
       "      <th>2</th>\n",
       "      <td>b</td>\n",
       "      <td>one</td>\n",
       "      <td>-1.965440</td>\n",
       "      <td>1.534577</td>\n",
       "    </tr>\n",
       "    <tr>\n",
       "      <th>3</th>\n",
       "      <td>b</td>\n",
       "      <td>two</td>\n",
       "      <td>-0.378926</td>\n",
       "      <td>1.225129</td>\n",
       "    </tr>\n",
       "    <tr>\n",
       "      <th>4</th>\n",
       "      <td>a</td>\n",
       "      <td>one</td>\n",
       "      <td>0.059373</td>\n",
       "      <td>-0.405012</td>\n",
       "    </tr>\n",
       "  </tbody>\n",
       "</table>\n",
       "</div>"
      ],
      "text/plain": [
       "  key1 key2     data1     data2\n",
       "0    a  one -0.415290 -0.038036\n",
       "1    a  two -0.345026  1.069099\n",
       "2    b  one -1.965440  1.534577\n",
       "3    b  two -0.378926  1.225129\n",
       "4    a  one  0.059373 -0.405012"
      ]
     },
     "execution_count": 27,
     "metadata": {},
     "output_type": "execute_result"
    }
   ],
   "source": [
    "data"
   ]
  },
  {
   "cell_type": "code",
   "execution_count": 28,
   "metadata": {
    "collapsed": true
   },
   "outputs": [
    {
     "data": {
      "text/html": [
       "<div>\n",
       "<style scoped>\n",
       "    .dataframe tbody tr th:only-of-type {\n",
       "        vertical-align: middle;\n",
       "    }\n",
       "\n",
       "    .dataframe tbody tr th {\n",
       "        vertical-align: top;\n",
       "    }\n",
       "\n",
       "    .dataframe thead th {\n",
       "        text-align: right;\n",
       "    }\n",
       "</style>\n",
       "<table border=\"1\" class=\"dataframe\">\n",
       "  <thead>\n",
       "    <tr style=\"text-align: right;\">\n",
       "      <th></th>\n",
       "      <th>key1</th>\n",
       "      <th>key2</th>\n",
       "      <th>data1</th>\n",
       "      <th>data2</th>\n",
       "    </tr>\n",
       "  </thead>\n",
       "  <tbody>\n",
       "    <tr>\n",
       "      <th>0</th>\n",
       "      <td>a</td>\n",
       "      <td>one</td>\n",
       "      <td>-0.415290</td>\n",
       "      <td>-0.038036</td>\n",
       "    </tr>\n",
       "    <tr>\n",
       "      <th>1</th>\n",
       "      <td>a</td>\n",
       "      <td>two</td>\n",
       "      <td>-0.345026</td>\n",
       "      <td>1.069099</td>\n",
       "    </tr>\n",
       "    <tr>\n",
       "      <th>2</th>\n",
       "      <td>b</td>\n",
       "      <td>one</td>\n",
       "      <td>-1.965440</td>\n",
       "      <td>1.534577</td>\n",
       "    </tr>\n",
       "    <tr>\n",
       "      <th>3</th>\n",
       "      <td>b</td>\n",
       "      <td>two</td>\n",
       "      <td>-0.378926</td>\n",
       "      <td>1.225129</td>\n",
       "    </tr>\n",
       "    <tr>\n",
       "      <th>4</th>\n",
       "      <td>a</td>\n",
       "      <td>one</td>\n",
       "      <td>0.059373</td>\n",
       "      <td>-0.405012</td>\n",
       "    </tr>\n",
       "  </tbody>\n",
       "</table>\n",
       "</div>"
      ],
      "text/plain": [
       "  key1 key2     data1     data2\n",
       "0    a  one -0.415290 -0.038036\n",
       "1    a  two -0.345026  1.069099\n",
       "2    b  one -1.965440  1.534577\n",
       "3    b  two -0.378926  1.225129\n",
       "4    a  one  0.059373 -0.405012"
      ]
     },
     "execution_count": 28,
     "metadata": {},
     "output_type": "execute_result"
    }
   ],
   "source": [
    "[[0.99583333 1.01458333 1.04583333 1.05833333 1.07083333 1.07083333\n",
    "  1.0375     1.08333333 1.1125     1.10208333 1.13125    1.24375\n",
    "  1.34791667 1.31875    1.30833333 1.24375    1.21666667 1.27708333\n",
    "  1.26875    1.20416667]\n",
    " [1.         1.02380952 1.06349206 1.07142857 1.07936508 1.0952381\n",
    "  1.05291005 1.08994709 1.0978836  1.08201058 1.11640212 1.14814815\n",
    "  1.18518519 1.16666667 1.21164021 1.14550265 1.11904762 1.20634921\n",
    "  1.17724868 1.15873016]\n",
    " [1.00848896 1.01697793 1.0475382  1.05093379 1.06960951 1.07470289\n",
    "  1.03225806 1.08998302 1.10526316 1.10526316 1.13242784 1.15619694\n",
    "  1.19694397 1.2139219  1.24278438 1.17317487 1.16468591 1.21222411\n",
    "  1.25297114 1.22071307]]"
   ]
  },
  {
   "cell_type": "code",
   "execution_count": null,
   "metadata": {},
   "outputs": [],
   "source": [
    "[1.00144077 1.01845693 1.05228787 1.0602319  1.07326931 1.0802581\n",
    " 1.04088937 1.08775448 1.10521559 1.09645236 1.12669332 1.18269836\n",
    " 1.24334861 1.23311286 1.25425264 1.18747584 1.16680006 1.23188555\n",
    " 1.23298994 1.19453663]"
   ]
  },
  {
   "cell_type": "code",
   "execution_count": 65,
   "metadata": {},
   "outputs": [
    {
     "data": {
      "text/plain": [
       "1.0184569266666668"
      ]
     },
     "execution_count": 65,
     "metadata": {},
     "output_type": "execute_result"
    }
   ],
   "source": [
    "(0.99583333+1+1.00144077)/3\n",
    "(1.01458333+1.02380952+1.01697793)/3"
   ]
  },
  {
   "cell_type": "code",
   "execution_count": null,
   "metadata": {},
   "outputs": [],
   "source": [
    "[-0.004166666666666541, \n",
    " 0.01882845188284521, \n",
    " 0.030800821355235986, \n",
    " 0.01195219123505975, \n",
    " 0.011811023622047223, \n",
    " 0.0, -0.03112840466926059, \n",
    " 0.04417670682730912, \n",
    " 0.026923076923076827, \n",
    " -0.009363295880149725, \n",
    " 0.026465028355387554, 0\n",
    " .09944751381215466, \n",
    " 0.08375209380234505, \n",
    " -0.021638330757341562, \n",
    " -0.007898894154818259, \n",
    " -0.04936305732484081, \n",
    " -0.021775544388609736, \n",
    " 0.04965753424657526, \n",
    " -0.006525285481239762, \n",
    " -0.05090311986863705]"
   ]
  }
 ],
 "metadata": {
  "kernelspec": {
   "display_name": "Python 3",
   "language": "python",
   "name": "python3"
  },
  "language_info": {
   "codemirror_mode": {
    "name": "ipython",
    "version": 3
   },
   "file_extension": ".py",
   "mimetype": "text/x-python",
   "name": "python",
   "nbconvert_exporter": "python",
   "pygments_lexer": "ipython3",
   "version": "3.7.5"
  }
 },
 "nbformat": 4,
 "nbformat_minor": 2
}
